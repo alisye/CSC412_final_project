{
 "cells": [
  {
   "cell_type": "code",
   "execution_count": 1,
   "id": "e71f471d",
   "metadata": {},
   "outputs": [],
   "source": [
    "# UNCOMMENT AND RUN IF YOU NEED TO RESIZE THE IMAGES I'M USING 64x64 TO SAVE GPU MEMORY\n",
    "\n",
    "# from PIL import Image\n",
    "\n",
    "# keys = list(labels.keys())\n",
    "\n",
    "# for idx in tqdm.tqdm(range(len(keys))):\n",
    "#   image = Image.open('./data/images/' + keys[idx])\n",
    "#   new_image = image.resize((64, 64))\n",
    "#   new_image.save('./data/images/' + keys[idx])"
   ]
  },
  {
   "cell_type": "code",
   "execution_count": 2,
   "id": "0e4f658d",
   "metadata": {},
   "outputs": [],
   "source": [
    "# RUN IF YOU NEED TO CONVERT IMAGES TO GRAYSCALE SOME IMAGES WERE NOT GRAYSCALE\n",
    "\n",
    "# from PIL import Image\n",
    "# keys = list(labels.keys())\n",
    "\n",
    "# for idx in tqdm.tqdm(range(len(keys))):\n",
    "#   img = Image.open('./data/images/' + keys[idx]).convert('LA')\n",
    "#   img.save('./data/images/' + keys[idx])"
   ]
  },
  {
   "cell_type": "code",
   "execution_count": 3,
   "id": "a8b808d6",
   "metadata": {},
   "outputs": [],
   "source": [
    "# import requests\n",
    "\n",
    "# def download_file_from_google_drive(id, destination):\n",
    "#     URL = \"https://docs.google.com/uc?export=download\"\n",
    "\n",
    "#     session = requests.Session()\n",
    "\n",
    "#     response = session.get(URL, params = { 'id' : id }, stream = True)\n",
    "#     token = get_confirm_token(response)\n",
    "\n",
    "#     if token:\n",
    "#         params = { 'id' : id, 'confirm' : token }\n",
    "#         response = session.get(URL, params = params, stream = True)\n",
    "\n",
    "#     save_response_content(response, destination)    \n",
    "\n",
    "# def get_confirm_token(response):\n",
    "#     for key, value in response.cookies.items():\n",
    "#         if key.startswith('download_warning'):\n",
    "#             return value\n",
    "\n",
    "#     return None\n",
    "\n",
    "# def save_response_content(response, destination):\n",
    "#     CHUNK_SIZE = 32768\n",
    "\n",
    "#     with open(destination, \"wb\") as f:\n",
    "#         for chunk in response.iter_content(CHUNK_SIZE):\n",
    "#             if chunk: # filter out keep-alive new chunks\n",
    "#                 f.write(chunk)"
   ]
  },
  {
   "cell_type": "code",
   "execution_count": 4,
   "id": "e36ae295",
   "metadata": {},
   "outputs": [],
   "source": [
    "# TRAIN_VAL_ID = '1WEADvNr4A6rxLwTgPzNBrzgD2cIj6r5j'\n",
    "# TEST_ID = '1deoCWp-0LBAEAHjfQr-h7OZQS8eTuR9Y'\n",
    "# TRAIN_VAL_FILE = './train_val.txt'\n",
    "# TEST_FILE = './test.txt'\n",
    "\n",
    "# download_file_from_google_drive(TRAIN_VAL_ID, TRAIN_VAL_FILE)\n",
    "# download_file_from_google_drive(TEST_ID, TEST_FILE)"
   ]
  },
  {
   "cell_type": "code",
   "execution_count": 5,
   "id": "051ad477",
   "metadata": {
    "scrolled": true
   },
   "outputs": [],
   "source": [
    "# with open(TRAIN_VAL_FILE) as f:\n",
    "#     file_names = [line.rstrip() for line in f]"
   ]
  },
  {
   "cell_type": "code",
   "execution_count": 6,
   "id": "f8f2a093",
   "metadata": {},
   "outputs": [],
   "source": [
    "# with open(TEST_FILE) as f:\n",
    "#     for line in f:\n",
    "#         file_names.append(line.rstrip())"
   ]
  },
  {
   "cell_type": "code",
   "execution_count": 7,
   "id": "f01aa4df",
   "metadata": {},
   "outputs": [],
   "source": [
    "# import pandas as pd\n",
    "\n",
    "# CHUNK_SIZE = 10000\n",
    "# LABEL_FILE = './labels/Data_Entry_2017.csv'\n",
    "# chunk = pd.read_csv(LABEL_FILE,chunksize=CHUNK_SIZE, usecols=[\"Image Index\", \"Finding Labels\"])\n",
    "# pd_df = pd.concat(chunk)"
   ]
  },
  {
   "cell_type": "code",
   "execution_count": 8,
   "id": "1bc4ed39",
   "metadata": {
    "scrolled": true
   },
   "outputs": [],
   "source": [
    "# import tqdm\n",
    "\n",
    "# HEALTHY_LABEL = 'No Finding'\n",
    "# labels = {}\n",
    "\n",
    "# for idx in tqdm.tqdm(range(len(file_names))):\n",
    "#     if pd_df[pd_df['Image Index'] == file_names[idx]]['Finding Labels'].values[0] == HEALTHY_LABEL:\n",
    "#         labels[file_names[idx]] = 'healthy'\n",
    "#     else:\n",
    "#         labels[file_names[idx]] = 'unhealthy'"
   ]
  },
  {
   "cell_type": "code",
   "execution_count": 9,
   "id": "c8b254aa",
   "metadata": {},
   "outputs": [],
   "source": [
    "# import os\n",
    "# keys = list(labels.keys())\n",
    "\n",
    "# for idx in tqdm.tqdm(range(len(keys))):\n",
    "#     file = keys[idx]\n",
    "#     os.rename('./data/images/'+file, './data/' + labels[file] + '/' + file)"
   ]
  },
  {
   "cell_type": "code",
   "execution_count": 10,
   "id": "bc0e7aac",
   "metadata": {},
   "outputs": [],
   "source": [
    "# os.rmdir('./data/images')"
   ]
  },
  {
   "cell_type": "code",
   "execution_count": 11,
   "id": "b2218102",
   "metadata": {},
   "outputs": [
    {
     "name": "stdout",
     "output_type": "stream",
     "text": [
      "Found 112120 images belonging to 2 classes.\n"
     ]
    }
   ],
   "source": [
    "import tensorflow as tf\n",
    "\n",
    "data_dir = './data'\n",
    "BATCH_SIZE = 64\n",
    "img_height = 64\n",
    "img_width = 64\n",
    "\n",
    "train_datagen = tf.keras.preprocessing.image.ImageDataGenerator(rescale=1./255.)\n",
    "\n",
    "\n",
    "train_ds = train_datagen.flow_from_directory(\n",
    "        data_dir,\n",
    "        target_size=(img_width, img_height),\n",
    "        batch_size=BATCH_SIZE,\n",
    "        class_mode=\"binary\",\n",
    "        color_mode=\"grayscale\")"
   ]
  },
  {
   "cell_type": "code",
   "execution_count": 12,
   "id": "880b0107",
   "metadata": {},
   "outputs": [],
   "source": [
    "def make_discriminator_model():\n",
    "    model = tf.keras.Sequential()\n",
    "    model.add(tf.keras.layers.Conv2D(64, (5, 5), strides=(2, 2), padding='same'))\n",
    "    model.add(tf.keras.layers.LeakyReLU())\n",
    "    model.add(tf.keras.layers.Dropout(0.3))\n",
    "\n",
    "    model.add(tf.keras.layers.Conv2D(128, (5, 5), strides=(2, 2), padding='same'))\n",
    "    model.add(tf.keras.layers.LeakyReLU())\n",
    "    model.add(tf.keras.layers.Dropout(0.3))\n",
    "    \n",
    "    model.add(tf.keras.layers.Conv2D(256, (5, 5), strides=(2, 2), padding='same'))\n",
    "    model.add(tf.keras.layers.LeakyReLU())\n",
    "    model.add(tf.keras.layers.Dropout(0.3))\n",
    "\n",
    "    model.add(tf.keras.layers.Flatten())\n",
    "    model.add(tf.keras.layers.Dense(1))\n",
    "\n",
    "    return model"
   ]
  },
  {
   "cell_type": "code",
   "execution_count": 13,
   "id": "24096da0",
   "metadata": {},
   "outputs": [],
   "source": [
    "def make_discriminator_model():\n",
    "    in_label = tf.keras.layers.Input(shape=(1,))\n",
    "    li = tf.keras.layers.Embedding(2, 50)(in_label)\n",
    "    n_nodes = 64 * 64\n",
    "    \n",
    "    li = tf.keras.layers.Dense(n_nodes)(li)\n",
    "    li = tf.keras.layers.Reshape((64, 64, 1))(li)\n",
    "    \n",
    "    in_image = tf.keras.layers.Input(shape=(64, 64, 1))\n",
    "    merge = tf.keras.layers.Concatenate()([in_image, li])\n",
    "    \n",
    "    fe = tf.keras.layers.Conv2D(64, (5, 5), strides=(2, 2), padding='same')(merge)\n",
    "    fe = tf.keras.layers.LeakyReLU()(fe)\n",
    "    fe = tf.keras.layers.Dropout(0.3)(fe)\n",
    "\n",
    "    fe = tf.keras.layers.Conv2D(128, (5, 5), strides=(2, 2), padding='same')(fe)\n",
    "    fe = tf.keras.layers.LeakyReLU()(fe)\n",
    "    fe = tf.keras.layers.Dropout(0.3)(fe)\n",
    "    \n",
    "    fe = tf.keras.layers.Conv2D(256, (5, 5), strides=(2, 2), padding='same')(fe)\n",
    "    fe = tf.keras.layers.LeakyReLU()(fe)\n",
    "    fe = tf.keras.layers.Dropout(0.3)(fe)\n",
    "\n",
    "    fe = tf.keras.layers.Flatten()(fe)\n",
    "    out_layer = tf.keras.layers.Dense(1)(fe)\n",
    "    \n",
    "    model = tf.keras.models.Model([in_image, in_label], out_layer)\n",
    "    return model"
   ]
  },
  {
   "cell_type": "code",
   "execution_count": 14,
   "id": "3b9d80b3",
   "metadata": {},
   "outputs": [],
   "source": [
    "def make_generator_model():\n",
    "    in_label = tf.keras.layers.Input(shape=(1,))\n",
    "    li = tf.keras.layers.Embedding(2, 50)(in_label)\n",
    "    \n",
    "    n_nodes = 2 * 2\n",
    "    \n",
    "    li = tf.keras.layers.Dense(n_nodes)(li)\n",
    "    \n",
    "    li = tf.keras.layers.Reshape((2, 2, 1))(li)\n",
    "    \n",
    "    in_lat = tf.keras.layers.Input(shape=(100,))\n",
    "    \n",
    "    n_nodes = 256 * 2 * 2\n",
    "    \n",
    "    gen = tf.keras.layers.Dense(n_nodes)(in_lat)\n",
    "    gen = tf.keras.layers.LeakyReLU(alpha=0.2)(gen)\n",
    "    gen = tf.keras.layers.Reshape((2, 2, 256))(gen)\n",
    "    \n",
    "    merge = tf.keras.layers.Concatenate()([gen, li])\n",
    "    \n",
    "    gen = tf.keras.layers.Dense(2*2*64, use_bias=False, input_shape=(100,))(merge)\n",
    "    gen = tf.keras.layers.BatchNormalization()(gen)\n",
    "    gen = tf.keras.layers.LeakyReLU()(gen)\n",
    "\n",
    "    gen = tf.keras.layers.Reshape((2, 2, 256))(gen)\n",
    "    \n",
    "    gen = tf.keras.layers.Conv2DTranspose(512, (4, 4), strides=(1, 1), padding='same', use_bias=False)(gen)\n",
    "    gen = tf.keras.layers.BatchNormalization()(gen)\n",
    "    gen = tf.keras.layers.ReLU()(gen)\n",
    "    print(gen.shape)\n",
    "\n",
    "    gen = tf.keras.layers.Conv2DTranspose(256, (4, 4), strides=(2, 2), padding='same', use_bias=False)(gen)\n",
    "    gen = tf.keras.layers.BatchNormalization()(gen)\n",
    "    gen = tf.keras.layers.ReLU()(gen)\n",
    "    print(gen.shape)\n",
    "\n",
    "    gen = tf.keras.layers.Conv2DTranspose(128, (4, 4), strides=(2, 2), padding='same', use_bias=False)(gen)\n",
    "    gen = tf.keras.layers.BatchNormalization()(gen)\n",
    "    gen = tf.keras.layers.ReLU()(gen)\n",
    "    print(gen.shape)\n",
    "\n",
    "    gen = tf.keras.layers.Conv2DTranspose(64, (4, 4), strides=(2, 2), padding='same', use_bias=False)(gen)\n",
    "    gen = tf.keras.layers.BatchNormalization()(gen)\n",
    "    gen = tf.keras.layers.ReLU()(gen)\n",
    "    print(gen.shape)\n",
    "    \n",
    "    gen = tf.keras.layers.Conv2DTranspose(32, (4, 4), strides=(2, 2), padding='same', use_bias=False)(gen)\n",
    "    gen = tf.keras.layers.BatchNormalization()(gen)\n",
    "    gen = tf.keras.layers.ReLU()(gen)\n",
    "    print(gen.shape)\n",
    "\n",
    "    gen = tf.keras.layers.Conv2DTranspose(1, (4, 4), strides=(2, 2), padding='same', use_bias=False)(gen)\n",
    "    out_layer = tf.keras.layers.Activation(activation='tanh')(gen)\n",
    "    print(out_layer.shape)\n",
    "    \n",
    "    model = tf.keras.models.Model([in_lat, in_label], out_layer)\n",
    "    return model"
   ]
  },
  {
   "cell_type": "code",
   "execution_count": 15,
   "id": "0b824d39",
   "metadata": {
    "scrolled": true
   },
   "outputs": [],
   "source": [
    "# generator = make_generator_model()\n",
    "# from numpy.random import randint\n",
    "\n",
    "# labels = tf.convert_to_tensor(randint(0, 2, 64).astype('float32'))\n",
    "# seed = tf.random.normal([64, 100])\n",
    "# generator([seed, labels], training=False).shape"
   ]
  },
  {
   "cell_type": "code",
   "execution_count": 16,
   "id": "3ec648eb",
   "metadata": {},
   "outputs": [
    {
     "name": "stdout",
     "output_type": "stream",
     "text": [
      "(None, 2, 2, 512)\n",
      "(None, 4, 4, 256)\n",
      "(None, 8, 8, 128)\n",
      "(None, 16, 16, 64)\n",
      "(None, 32, 32, 32)\n",
      "(None, 64, 64, 1)\n"
     ]
    }
   ],
   "source": [
    "discriminator = make_discriminator_model()\n",
    "generator = make_generator_model()"
   ]
  },
  {
   "cell_type": "code",
   "execution_count": 17,
   "id": "682bba76",
   "metadata": {},
   "outputs": [],
   "source": [
    "cross_entropy = tf.keras.losses.BinaryCrossentropy(from_logits=True)\n",
    "\n",
    "def discriminator_loss(real_output, fake_output):\n",
    "    real_loss = cross_entropy(tf.ones_like(real_output), real_output)\n",
    "    fake_loss = cross_entropy(tf.zeros_like(fake_output), fake_output)\n",
    "    total_loss = real_loss + fake_loss\n",
    "    return total_loss\n",
    "\n",
    "def generator_loss(fake_output):\n",
    "    return cross_entropy(tf.ones_like(fake_output), fake_output)\n",
    "\n",
    "generator_optimizer = tf.keras.optimizers.Adam(1e-4)\n",
    "discriminator_optimizer = tf.keras.optimizers.Adam(1e-4)"
   ]
  },
  {
   "cell_type": "code",
   "execution_count": 18,
   "id": "11341016",
   "metadata": {},
   "outputs": [],
   "source": [
    "from numpy.random import randint\n",
    "EPOCHS = 10\n",
    "\n",
    "@tf.function\n",
    "def train_step(images, labels):\n",
    "    noise = tf.random.normal([BATCH_SIZE, 100])\n",
    "\n",
    "    with tf.GradientTape() as gen_tape, tf.GradientTape() as disc_tape:\n",
    "        fake_labels = tf.convert_to_tensor(randint(0, 2, BATCH_SIZE).astype('float32'))\n",
    "        generated_images = generator([noise, fake_labels], training=True)\n",
    "        \n",
    "        real_output = discriminator([images, labels], training=True)\n",
    "        fake_output = discriminator([generated_images, fake_labels], training=True)\n",
    "        \n",
    "        gen_loss = generator_loss(fake_output)\n",
    "        disc_loss = discriminator_loss(real_output, fake_output)\n",
    "    \n",
    "    gradients_of_generator = gen_tape.gradient(gen_loss, generator.trainable_variables)\n",
    "    gradients_of_discriminator = disc_tape.gradient(disc_loss, discriminator.trainable_variables)\n",
    "\n",
    "    generator_optimizer.apply_gradients(zip(gradients_of_generator, generator.trainable_variables))\n",
    "    discriminator_optimizer.apply_gradients(zip(gradients_of_discriminator, discriminator.trainable_variables))\n",
    "    return real_output, fake_output, gen_loss, disc_loss\n",
    "\n",
    "def train(dataset, epochs):\n",
    "    epoch = 0\n",
    "    for epoch in range(epochs):\n",
    "        i = 0\n",
    "        for image_batch, labels in dataset:\n",
    "            i += 1\n",
    "            real_output, fake_output, gen_loss, disc_loss = train_step(image_batch, labels)\n",
    "            if i % 50 == 0:\n",
    "                tf.print('[%d/%d][%d/%d] D(x) = %s D(G(z)) = %s G loss: %s D loss: %s' % \n",
    "                         (epoch+1, EPOCHS, i, len(dataset),\n",
    "                          str(tf.math.sigmoid(real_output).numpy().mean()), \n",
    "                          str(tf.math.sigmoid(fake_output).numpy().mean()),\n",
    "                          str(gen_loss.numpy()),\n",
    "                          str(disc_loss.numpy())\n",
    "                         ))\n",
    "            if i == len(dataset):\n",
    "                break"
   ]
  },
  {
   "cell_type": "code",
   "execution_count": 19,
   "id": "41435475",
   "metadata": {},
   "outputs": [],
   "source": [
    "import os\n",
    "\n",
    "checkpoint_dir = './training_checkpoints'\n",
    "checkpoint_prefix = os.path.join(checkpoint_dir, \"ckpt\")\n",
    "checkpoint = tf.train.Checkpoint(generator_optimizer=generator_optimizer,\n",
    "                                 discriminator_optimizer=discriminator_optimizer,\n",
    "                                 generator=generator,\n",
    "                                 discriminator=discriminator)"
   ]
  },
  {
   "cell_type": "code",
   "execution_count": 51,
   "id": "e0a4d960",
   "metadata": {},
   "outputs": [
    {
     "data": {
      "text/plain": [
       "<tensorflow.python.training.tracking.util.CheckpointLoadStatus at 0x27c9735dcd0>"
      ]
     },
     "execution_count": 51,
     "metadata": {},
     "output_type": "execute_result"
    }
   ],
   "source": [
    "#checkpoint.restore(checkpoint_dir + '/ckpt-1')"
   ]
  },
  {
   "cell_type": "code",
   "execution_count": 52,
   "id": "2eec78b1",
   "metadata": {},
   "outputs": [],
   "source": [
    "seed = tf.random.normal([1, 100])\n",
    "labels = tf.convert_to_tensor(randint(0, 2, 1).astype('float32'))"
   ]
  },
  {
   "cell_type": "code",
   "execution_count": 53,
   "id": "1460a9c9",
   "metadata": {},
   "outputs": [],
   "source": [
    "#generator.load_weights('./checkpoints/my_checkpoint')"
   ]
  },
  {
   "cell_type": "code",
   "execution_count": 54,
   "id": "b3e99ff5",
   "metadata": {},
   "outputs": [],
   "source": [
    "import matplotlib.pyplot as plt\n",
    "\n",
    "predictions = generator([seed, labels], training=False)\n",
    "real, _ = train_ds[0]\n",
    "real = real[0].squeeze(2)"
   ]
  },
  {
   "cell_type": "code",
   "execution_count": 55,
   "id": "5b783118",
   "metadata": {},
   "outputs": [],
   "source": [
    "image = predictions[0]"
   ]
  },
  {
   "cell_type": "code",
   "execution_count": 56,
   "id": "2a3f5c9a",
   "metadata": {},
   "outputs": [],
   "source": [
    "image = image.numpy()"
   ]
  },
  {
   "cell_type": "code",
   "execution_count": 57,
   "id": "c32308ea",
   "metadata": {},
   "outputs": [],
   "source": [
    "image = image.squeeze(2)"
   ]
  },
  {
   "cell_type": "code",
   "execution_count": 58,
   "id": "894dc094",
   "metadata": {},
   "outputs": [],
   "source": [
    "image = image * 255"
   ]
  },
  {
   "cell_type": "code",
   "execution_count": 59,
   "id": "7d846399",
   "metadata": {},
   "outputs": [
    {
     "data": {
      "text/plain": [
       "<matplotlib.image.AxesImage at 0x27e13bd4c40>"
      ]
     },
     "execution_count": 59,
     "metadata": {},
     "output_type": "execute_result"
    },
    {
     "data": {
      "image/png": "[encoded data removed]",
      "text/plain": [
       "<Figure size 432x288 with 1 Axes>"
      ]
     },
     "metadata": {
      "needs_background": "light"
     },
     "output_type": "display_data"
    }
   ],
   "source": [
    "plt.imshow(image, cmap='gray')"
   ]
  },
  {
   "cell_type": "code",
   "execution_count": 60,
   "id": "a516ebb9",
   "metadata": {},
   "outputs": [
    {
     "data": {
      "text/plain": [
       "<matplotlib.image.AxesImage at 0x27e1a98f670>"
      ]
     },
     "execution_count": 60,
     "metadata": {},
     "output_type": "execute_result"
    },
    {
     "data": {
      "image/png": "[encoded data removed]",
      "text/plain": [
       "<Figure size 432x288 with 1 Axes>"
      ]
     },
     "metadata": {
      "needs_background": "light"
     },
     "output_type": "display_data"
    }
   ],
   "source": [
    "plt.imshow(real, cmap='gray')"
   ]
  }
 ],
 "metadata": {
  "kernelspec": {
   "display_name": "Python 3",
   "language": "python",
   "name": "python3"
  },
  "language_info": {
   "codemirror_mode": {
    "name": "ipython",
    "version": 3
   },
   "file_extension": ".py",
   "mimetype": "text/x-python",
   "name": "python",
   "nbconvert_exporter": "python",
   "pygments_lexer": "ipython3",
   "version": "3.8.0"
  }
 },
 "nbformat": 4,
 "nbformat_minor": 5
}
