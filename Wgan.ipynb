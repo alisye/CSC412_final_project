{
 "cells": [
  {
   "cell_type": "code",
   "execution_count": null,
   "id": "e71f471d",
   "metadata": {},
   "outputs": [],
   "source": [
    "# UNCOMMENT AND RUN IF YOU NEED TO RESIZE THE IMAGES I'M USING 64x64 TO SAVE GPU MEMORY\n",
    "\n",
    "# from PIL import Image\n",
    "\n",
    "# keys = list(labels.keys())\n",
    "\n",
    "# for idx in tqdm.tqdm(range(len(keys))):\n",
    "#   image = Image.open('./data/images/' + keys[idx])\n",
    "#   new_image = image.resize((64, 64))\n",
    "#   new_image.save('./data/images/' + keys[idx])"
   ]
  },
  {
   "cell_type": "code",
   "execution_count": null,
   "id": "0e4f658d",
   "metadata": {},
   "outputs": [],
   "source": [
    "# RUN IF YOU NEED TO CONVERT IMAGES TO GRAYSCALE SOME IMAGES WERE NOT GRAYSCALE\n",
    "\n",
    "# from PIL import Image\n",
    "# keys = list(labels.keys())\n",
    "\n",
    "# for idx in tqdm.tqdm(range(len(keys))):\n",
    "#   img = Image.open('./data/images/' + keys[idx]).convert('LA')\n",
    "#   img.save('./data/images/' + keys[idx])"
   ]
  },
  {
   "cell_type": "code",
   "execution_count": null,
   "id": "a8b808d6",
   "metadata": {},
   "outputs": [],
   "source": [
    "# import requests\n",
    "\n",
    "# def download_file_from_google_drive(id, destination):\n",
    "#     URL = \"https://docs.google.com/uc?export=download\"\n",
    "\n",
    "#     session = requests.Session()\n",
    "\n",
    "#     response = session.get(URL, params = { 'id' : id }, stream = True)\n",
    "#     token = get_confirm_token(response)\n",
    "\n",
    "#     if token:\n",
    "#         params = { 'id' : id, 'confirm' : token }\n",
    "#         response = session.get(URL, params = params, stream = True)\n",
    "\n",
    "#     save_response_content(response, destination)    \n",
    "\n",
    "# def get_confirm_token(response):\n",
    "#     for key, value in response.cookies.items():\n",
    "#         if key.startswith('download_warning'):\n",
    "#             return value\n",
    "\n",
    "#     return None\n",
    "\n",
    "# def save_response_content(response, destination):\n",
    "#     CHUNK_SIZE = 32768\n",
    "\n",
    "#     with open(destination, \"wb\") as f:\n",
    "#         for chunk in response.iter_content(CHUNK_SIZE):\n",
    "#             if chunk: # filter out keep-alive new chunks\n",
    "#                 f.write(chunk)"
   ]
  },
  {
   "cell_type": "code",
   "execution_count": null,
   "id": "e36ae295",
   "metadata": {},
   "outputs": [],
   "source": [
    "# TRAIN_VAL_ID = '1WEADvNr4A6rxLwTgPzNBrzgD2cIj6r5j'\n",
    "# TEST_ID = '1deoCWp-0LBAEAHjfQr-h7OZQS8eTuR9Y'\n",
    "# TRAIN_VAL_FILE = './train_val.txt'\n",
    "# TEST_FILE = './test.txt'\n",
    "\n",
    "# download_file_from_google_drive(TRAIN_VAL_ID, TRAIN_VAL_FILE)\n",
    "# download_file_from_google_drive(TEST_ID, TEST_FILE)"
   ]
  },
  {
   "cell_type": "code",
   "execution_count": null,
   "id": "051ad477",
   "metadata": {
    "scrolled": true
   },
   "outputs": [],
   "source": [
    "# with open(TRAIN_VAL_FILE) as f:\n",
    "#     file_names = [line.rstrip() for line in f]"
   ]
  },
  {
   "cell_type": "code",
   "execution_count": null,
   "id": "f8f2a093",
   "metadata": {},
   "outputs": [],
   "source": [
    "# with open(TEST_FILE) as f:\n",
    "#     for line in f:\n",
    "#         file_names.append(line.rstrip())"
   ]
  },
  {
   "cell_type": "code",
   "execution_count": null,
   "id": "f01aa4df",
   "metadata": {},
   "outputs": [],
   "source": [
    "# import pandas as pd\n",
    "\n",
    "# CHUNK_SIZE = 10000\n",
    "# LABEL_FILE = './labels/Data_Entry_2017.csv'\n",
    "# chunk = pd.read_csv(LABEL_FILE,chunksize=CHUNK_SIZE, usecols=[\"Image Index\", \"Finding Labels\"])\n",
    "# pd_df = pd.concat(chunk)"
   ]
  },
  {
   "cell_type": "code",
   "execution_count": null,
   "id": "1bc4ed39",
   "metadata": {
    "scrolled": true
   },
   "outputs": [],
   "source": [
    "# import tqdm\n",
    "\n",
    "# HEALTHY_LABEL = 'No Finding'\n",
    "# labels = {}\n",
    "\n",
    "# for idx in tqdm.tqdm(range(len(file_names))):\n",
    "#     if pd_df[pd_df['Image Index'] == file_names[idx]]['Finding Labels'].values[0] == HEALTHY_LABEL:\n",
    "#         labels[file_names[idx]] = 'healthy'\n",
    "#     else:\n",
    "#         labels[file_names[idx]] = 'unhealthy'"
   ]
  },
  {
   "cell_type": "code",
   "execution_count": null,
   "id": "c8b254aa",
   "metadata": {},
   "outputs": [],
   "source": [
    "# import os\n",
    "# keys = list(labels.keys())\n",
    "\n",
    "# for idx in tqdm.tqdm(range(len(keys))):\n",
    "#     file = keys[idx]\n",
    "#     os.rename('./data/images/'+file, './data/' + labels[file] + '/' + file)"
   ]
  },
  {
   "cell_type": "code",
   "execution_count": null,
   "id": "bc0e7aac",
   "metadata": {},
   "outputs": [],
   "source": [
    "# os.rmdir('./data/images')"
   ]
  },
  {
   "cell_type": "code",
   "execution_count": 1,
   "id": "b2218102",
   "metadata": {},
   "outputs": [
    {
     "name": "stdout",
     "output_type": "stream",
     "text": [
      "INFO:tensorflow:Enabling eager execution\n",
      "INFO:tensorflow:Enabling v2 tensorshape\n",
      "INFO:tensorflow:Enabling resource variables\n",
      "INFO:tensorflow:Enabling tensor equality\n",
      "INFO:tensorflow:Enabling control flow v2\n",
      "Found 112120 images belonging to 1 classes.\n"
     ]
    }
   ],
   "source": [
    "import tensorflow as tf\n",
    "from keras import backend\n",
    "\n",
    "data_dir = './data'\n",
    "BATCH_SIZE = 64\n",
    "img_height = 64\n",
    "img_width = 64\n",
    "\n",
    "train_datagen = tf.keras.preprocessing.image.ImageDataGenerator(rescale=1./255.)\n",
    "\n",
    "\n",
    "train_ds = train_datagen.flow_from_directory(\n",
    "        data_dir,\n",
    "        target_size=(img_width, img_height),\n",
    "        batch_size=BATCH_SIZE,\n",
    "        class_mode=\"binary\",\n",
    "        color_mode=\"grayscale\")"
   ]
  },
  {
   "cell_type": "code",
   "execution_count": 2,
   "id": "24096da0",
   "metadata": {},
   "outputs": [],
   "source": [
    "def make_discriminator_model():\n",
    "    const = ClipConstraint(0.01)\n",
    "    in_label = tf.keras.layers.Input(shape=(1,))\n",
    "    li = tf.keras.layers.Embedding(2, 50)(in_label)\n",
    "    n_nodes = 64 * 64\n",
    "    \n",
    "    li = tf.keras.layers.Dense(n_nodes)(li)\n",
    "    li = tf.keras.layers.Reshape((64, 64, 1))(li)\n",
    "    \n",
    "    in_image = tf.keras.layers.Input(shape=(64, 64, 1))\n",
    "    merge = tf.keras.layers.Concatenate()([in_image, li])\n",
    "    \n",
    "    fe = tf.keras.layers.Conv2D(64, (5, 5), strides=(2, 2), padding='same', kernel_constraint=const)(merge)\n",
    "    fe = tf.keras.layers.LeakyReLU()(fe)\n",
    "    fe = tf.keras.layers.Dropout(0.3)(fe)\n",
    "\n",
    "    fe = tf.keras.layers.Conv2D(128, (5, 5), strides=(2, 2), padding='same', kernel_constraint=const)(fe)\n",
    "    fe = tf.keras.layers.LeakyReLU()(fe)\n",
    "    fe = tf.keras.layers.Dropout(0.3)(fe)\n",
    "\n",
    "    fe = tf.keras.layers.Flatten()(fe)\n",
    "    out_layer = tf.keras.layers.Dense(1)(fe)\n",
    "    \n",
    "    model = tf.keras.models.Model([in_image, in_label], out_layer)\n",
    "    return model"
   ]
  },
  {
   "cell_type": "code",
   "execution_count": 3,
   "id": "hairy-banner",
   "metadata": {},
   "outputs": [],
   "source": [
    "class ClipConstraint(tf.keras.constraints.Constraint):\n",
    "\n",
    "    # set clip value when initialized\n",
    "    def __init__(self, clip_value):\n",
    "        self.clip_value = clip_value\n",
    "\n",
    "    # clip model weights to hypercube\n",
    "    def __call__(self, weights):\n",
    "        return backend.clip(weights, -self.clip_value, self.clip_value)\n",
    "\n",
    "    # get the config\n",
    "    def get_config(self):\n",
    "        return {'clip_value': self.clip_value}"
   ]
  },
  {
   "cell_type": "code",
   "execution_count": 21,
   "id": "3b9d80b3",
   "metadata": {},
   "outputs": [],
   "source": [
    "def make_generator_model():\n",
    "    in_label = tf.keras.layers.Input(shape=(1,))\n",
    "    li = tf.keras.layers.Embedding(2, 50)(in_label)\n",
    "    \n",
    "    n_nodes = 16 * 16\n",
    "    \n",
    "    li = tf.keras.layers.Dense(n_nodes)(li)\n",
    "    \n",
    "    li = tf.keras.layers.Reshape((16, 16, 1))(li)\n",
    "    \n",
    "    in_lat = tf.keras.layers.Input(shape=(100,))\n",
    "    \n",
    "    n_nodes = 256 * 16 * 16\n",
    "    \n",
    "    gen = tf.keras.layers.Dense(n_nodes)(in_lat)\n",
    "    gen = tf.keras.layers.BatchNormalization()(gen)\n",
    "    gen = tf.keras.layers.LeakyReLU()(gen)\n",
    "    gen = tf.keras.layers.Reshape((16, 16, 256))(gen)\n",
    "    \n",
    "    merge = tf.keras.layers.Concatenate()([gen, li])\n",
    "    print(merge.shape)\n",
    "\n",
    "    gen = tf.keras.layers.Conv2DTranspose(128, (5, 5), strides=(1, 1), padding='same', use_bias=False)(merge)\n",
    "    gen = tf.keras.layers.BatchNormalization()(gen)\n",
    "    gen = tf.keras.layers.ReLU()(gen)\n",
    "    print(gen.shape)\n",
    "    \n",
    "    gen = tf.keras.layers.Conv2DTranspose(64, (5, 5), strides=(2, 2), padding='same', use_bias=False)(gen)\n",
    "    gen = tf.keras.layers.BatchNormalization()(gen)\n",
    "    gen = tf.keras.layers.ReLU()(gen)\n",
    "    print(gen.shape)\n",
    "\n",
    "    gen = tf.keras.layers.Conv2DTranspose(1, (5, 5), strides=(2, 2), padding='same', use_bias=False)(gen)\n",
    "    out_layer = tf.keras.layers.Activation(activation='tanh')(gen)\n",
    "    print(out_layer.shape)\n",
    "    \n",
    "    model = tf.keras.models.Model([in_lat, in_label], out_layer)\n",
    "    return model"
   ]
  },
  {
   "cell_type": "code",
   "execution_count": 16,
   "id": "0b824d39",
   "metadata": {
    "scrolled": true
   },
   "outputs": [],
   "source": [
    "# generator = make_generator_model()\n",
    "# from numpy.random import randint\n",
    "\n",
    "# labels = tf.convert_to_tensor(randint(0, 2, 64).astype('float32'))\n",
    "# seed = tf.random.normal([64, 100])\n",
    "# generator([seed, labels], training=False).shape"
   ]
  },
  {
   "cell_type": "code",
   "execution_count": 23,
   "id": "3ec648eb",
   "metadata": {},
   "outputs": [
    {
     "name": "stdout",
     "output_type": "stream",
     "text": [
      "(None, 16, 16, 257)\n",
      "(None, 16, 16, 128)\n",
      "(None, 32, 32, 64)\n",
      "(None, 64, 64, 1)\n"
     ]
    }
   ],
   "source": [
    "discriminator = make_discriminator_model()\n",
    "generator = make_generator_model()"
   ]
  },
  {
   "cell_type": "code",
   "execution_count": 18,
   "id": "682bba76",
   "metadata": {},
   "outputs": [],
   "source": [
    "cross_entropy = tf.keras.losses.BinaryCrossentropy(from_logits=False)\n",
    "\n",
    "def wasserstein_loss(y_true, y_pred):\n",
    "    return backend.mean(y_true * y_pred)\n",
    "\n",
    "def discriminator_loss(real_output, fake_output):\n",
    "    real_loss = wasserstein_loss(tf.ones_like(real_output), real_output)\n",
    "    fake_loss = wasserstein_loss(tf.math.negative(tf.ones_like(fake_output)), fake_output)\n",
    "    total_loss = real_loss - fake_loss\n",
    "    return total_loss\n",
    "\n",
    "def generator_loss(fake_output):\n",
    "    return  wasserstein_loss(tf.math.negative(tf.ones_like(fake_output)), fake_output)\n",
    "\n",
    "generator_optimizer = tf.keras.optimizers.RMSprop(learning_rate=1e-4, momentum=0)\n",
    "discriminator_optimizer = tf.keras.optimizers.RMSprop(learning_rate=1e-4, momentum=0)"
   ]
  },
  {
   "cell_type": "code",
   "execution_count": 19,
   "id": "11341016",
   "metadata": {},
   "outputs": [],
   "source": [
    "from numpy.random import randint\n",
    "EPOCHS = 9\n",
    "n_steps = 5\n",
    "\n",
    "@tf.function\n",
    "def train_descriminator(images, labels):\n",
    "    noise = tf.random.normal([BATCH_SIZE, 100])\n",
    "\n",
    "    with tf.GradientTape() as gen_tape, tf.GradientTape() as disc_tape:\n",
    "        fake_labels = tf.convert_to_tensor(randint(0, 2, BATCH_SIZE).astype('float32'))\n",
    "        generated_images = generator([noise, fake_labels], training=True)\n",
    "\n",
    "        real_output = discriminator([images, labels], training=True)\n",
    "        fake_output = discriminator([generated_images, fake_labels], training=True)\n",
    "        \n",
    "        gen_loss = generator_loss(fake_output)\n",
    "        disc_loss = discriminator_loss(real_output, fake_output)\n",
    "    \n",
    "    gradients_of_discriminator = disc_tape.gradient(disc_loss, discriminator.trainable_variables)\n",
    "\n",
    "    discriminator_optimizer.apply_gradients(zip(gradients_of_discriminator, discriminator.trainable_variables))\n",
    "    return real_output, fake_output, gen_loss, disc_loss\n",
    "\n",
    "def train_step(images, labels):\n",
    "    noise = tf.random.normal([BATCH_SIZE, 100])\n",
    "\n",
    "    with tf.GradientTape() as gen_tape, tf.GradientTape() as disc_tape:\n",
    "        fake_labels = tf.convert_to_tensor(randint(0, 2, BATCH_SIZE).astype('float32'))\n",
    "        generated_images = generator([noise, fake_labels], training=True)\n",
    "        \n",
    "        real_output = discriminator([images, labels], training=True)\n",
    "        fake_output = discriminator([generated_images, fake_labels], training=True)\n",
    "        gen_loss = generator_loss(fake_output)\n",
    "        disc_loss = discriminator_loss(real_output, fake_output)\n",
    "    \n",
    "    gradients_of_generator = gen_tape.gradient(gen_loss, generator.trainable_variables)\n",
    "    gradients_of_discriminator = disc_tape.gradient(disc_loss, discriminator.trainable_variables)\n",
    "\n",
    "    generator_optimizer.apply_gradients(zip(gradients_of_generator, generator.trainable_variables))\n",
    "    discriminator_optimizer.apply_gradients(zip(gradients_of_discriminator, discriminator.trainable_variables))\n",
    "    return real_output, fake_output, gen_loss, disc_loss\n",
    "\n",
    "import matplotlib.pyplot as plt\n",
    "def train(dataset, epochs):\n",
    "    epoch = 0\n",
    "    for epoch in range(epochs):\n",
    "        i = 0\n",
    "        descriminator_only = False\n",
    "        for image_batch, labels in dataset:\n",
    "            i += 1\n",
    "            if descriminator_only:\n",
    "                real_output, fake_output, gen_loss, disc_loss = train_descriminator(image_batch, labels)\n",
    "            else:\n",
    "                real_output, fake_output, gen_loss, disc_loss = train_step(image_batch, labels)\n",
    "                \n",
    "            if i % 50 == 0:\n",
    "                tf.print('[%d/%d][%d/%d] D(x) = %s D(G(z)) = %s G loss: %s D loss: %s' % \n",
    "                         (epoch+1, EPOCHS, i, len(dataset),\n",
    "                          str(real_output.numpy().mean()), \n",
    "                          str(fake_output.numpy().mean()),\n",
    "                          str(gen_loss.numpy()),\n",
    "                          str(disc_loss.numpy())\n",
    "                         ))\n",
    "            if i% n_steps == 0:\n",
    "                descriminator_only = False\n",
    "            else:\n",
    "                descriminator_only = True\n",
    "            if i == len(dataset):\n",
    "                break"
   ]
  },
  {
   "cell_type": "code",
   "execution_count": 24,
   "id": "conservative-vermont",
   "metadata": {},
   "outputs": [
    {
     "name": "stdout",
     "output_type": "stream",
     "text": [
      "[1/9][50/1752] D(x) = -49.27987 D(G(z)) = -3.466044 G loss: 3.4660442 D loss: -52.745914\n",
      "[1/9][100/1752] D(x) = -257.00128 D(G(z)) = -28.594616 G loss: 28.594616 D loss: -285.5959\n",
      "[1/9][150/1752] D(x) = -663.7922 D(G(z)) = -96.4706 G loss: 96.4706 D loss: -760.26276\n",
      "[1/9][200/1752] D(x) = -998.4914 D(G(z)) = -198.40512 G loss: 198.40514 D loss: -1196.8965\n",
      "[1/9][250/1752] D(x) = -1292.9587 D(G(z)) = -303.99875 G loss: 303.99872 D loss: -1596.9575\n",
      "[1/9][300/1752] D(x) = -1670.6797 D(G(z)) = -441.00583 G loss: 441.00583 D loss: -2111.6853\n",
      "[1/9][350/1752] D(x) = -2104.9575 D(G(z)) = -600.44604 G loss: 600.44604 D loss: -2705.4036\n"
     ]
    },
    {
     "ename": "KeyboardInterrupt",
     "evalue": "",
     "output_type": "error",
     "traceback": [
      "\u001b[1;31m---------------------------------------------------------------------------\u001b[0m",
      "\u001b[1;31mKeyboardInterrupt\u001b[0m                         Traceback (most recent call last)",
      "\u001b[1;32m<ipython-input-24-d2e0a4733c0b>\u001b[0m in \u001b[0;36m<module>\u001b[1;34m\u001b[0m\n\u001b[1;32m----> 1\u001b[1;33m \u001b[0mtrain\u001b[0m\u001b[1;33m(\u001b[0m\u001b[0mtrain_ds\u001b[0m\u001b[1;33m,\u001b[0m \u001b[0mEPOCHS\u001b[0m\u001b[1;33m)\u001b[0m\u001b[1;33m\u001b[0m\u001b[1;33m\u001b[0m\u001b[0m\n\u001b[0m",
      "\u001b[1;32m<ipython-input-19-c42a65a56f11>\u001b[0m in \u001b[0;36mtrain\u001b[1;34m(dataset, epochs)\u001b[0m\n\u001b[0;32m     47\u001b[0m         \u001b[0mi\u001b[0m \u001b[1;33m=\u001b[0m \u001b[1;36m0\u001b[0m\u001b[1;33m\u001b[0m\u001b[1;33m\u001b[0m\u001b[0m\n\u001b[0;32m     48\u001b[0m         \u001b[0mdescriminator_only\u001b[0m \u001b[1;33m=\u001b[0m \u001b[1;32mFalse\u001b[0m\u001b[1;33m\u001b[0m\u001b[1;33m\u001b[0m\u001b[0m\n\u001b[1;32m---> 49\u001b[1;33m         \u001b[1;32mfor\u001b[0m \u001b[0mimage_batch\u001b[0m\u001b[1;33m,\u001b[0m \u001b[0mlabels\u001b[0m \u001b[1;32min\u001b[0m \u001b[0mdataset\u001b[0m\u001b[1;33m:\u001b[0m\u001b[1;33m\u001b[0m\u001b[1;33m\u001b[0m\u001b[0m\n\u001b[0m\u001b[0;32m     50\u001b[0m             \u001b[0mi\u001b[0m \u001b[1;33m+=\u001b[0m \u001b[1;36m1\u001b[0m\u001b[1;33m\u001b[0m\u001b[1;33m\u001b[0m\u001b[0m\n\u001b[0;32m     51\u001b[0m             \u001b[1;32mif\u001b[0m \u001b[0mdescriminator_only\u001b[0m\u001b[1;33m:\u001b[0m\u001b[1;33m\u001b[0m\u001b[1;33m\u001b[0m\u001b[0m\n",
      "\u001b[1;32mc:\\users\\zheng\\appdata\\local\\programs\\python\\python39\\lib\\site-packages\\keras_preprocessing\\image\\iterator.py\u001b[0m in \u001b[0;36m__next__\u001b[1;34m(self, *args, **kwargs)\u001b[0m\n\u001b[0;32m    102\u001b[0m \u001b[1;33m\u001b[0m\u001b[0m\n\u001b[0;32m    103\u001b[0m     \u001b[1;32mdef\u001b[0m \u001b[0m__next__\u001b[0m\u001b[1;33m(\u001b[0m\u001b[0mself\u001b[0m\u001b[1;33m,\u001b[0m \u001b[1;33m*\u001b[0m\u001b[0margs\u001b[0m\u001b[1;33m,\u001b[0m \u001b[1;33m**\u001b[0m\u001b[0mkwargs\u001b[0m\u001b[1;33m)\u001b[0m\u001b[1;33m:\u001b[0m\u001b[1;33m\u001b[0m\u001b[1;33m\u001b[0m\u001b[0m\n\u001b[1;32m--> 104\u001b[1;33m         \u001b[1;32mreturn\u001b[0m \u001b[0mself\u001b[0m\u001b[1;33m.\u001b[0m\u001b[0mnext\u001b[0m\u001b[1;33m(\u001b[0m\u001b[1;33m*\u001b[0m\u001b[0margs\u001b[0m\u001b[1;33m,\u001b[0m \u001b[1;33m**\u001b[0m\u001b[0mkwargs\u001b[0m\u001b[1;33m)\u001b[0m\u001b[1;33m\u001b[0m\u001b[1;33m\u001b[0m\u001b[0m\n\u001b[0m\u001b[0;32m    105\u001b[0m \u001b[1;33m\u001b[0m\u001b[0m\n\u001b[0;32m    106\u001b[0m     \u001b[1;32mdef\u001b[0m \u001b[0mnext\u001b[0m\u001b[1;33m(\u001b[0m\u001b[0mself\u001b[0m\u001b[1;33m)\u001b[0m\u001b[1;33m:\u001b[0m\u001b[1;33m\u001b[0m\u001b[1;33m\u001b[0m\u001b[0m\n",
      "\u001b[1;32mc:\\users\\zheng\\appdata\\local\\programs\\python\\python39\\lib\\site-packages\\keras_preprocessing\\image\\iterator.py\u001b[0m in \u001b[0;36mnext\u001b[1;34m(self)\u001b[0m\n\u001b[0;32m    114\u001b[0m         \u001b[1;31m# The transformation of images is not under thread lock\u001b[0m\u001b[1;33m\u001b[0m\u001b[1;33m\u001b[0m\u001b[1;33m\u001b[0m\u001b[0m\n\u001b[0;32m    115\u001b[0m         \u001b[1;31m# so it can be done in parallel\u001b[0m\u001b[1;33m\u001b[0m\u001b[1;33m\u001b[0m\u001b[1;33m\u001b[0m\u001b[0m\n\u001b[1;32m--> 116\u001b[1;33m         \u001b[1;32mreturn\u001b[0m \u001b[0mself\u001b[0m\u001b[1;33m.\u001b[0m\u001b[0m_get_batches_of_transformed_samples\u001b[0m\u001b[1;33m(\u001b[0m\u001b[0mindex_array\u001b[0m\u001b[1;33m)\u001b[0m\u001b[1;33m\u001b[0m\u001b[1;33m\u001b[0m\u001b[0m\n\u001b[0m\u001b[0;32m    117\u001b[0m \u001b[1;33m\u001b[0m\u001b[0m\n\u001b[0;32m    118\u001b[0m     \u001b[1;32mdef\u001b[0m \u001b[0m_get_batches_of_transformed_samples\u001b[0m\u001b[1;33m(\u001b[0m\u001b[0mself\u001b[0m\u001b[1;33m,\u001b[0m \u001b[0mindex_array\u001b[0m\u001b[1;33m)\u001b[0m\u001b[1;33m:\u001b[0m\u001b[1;33m\u001b[0m\u001b[1;33m\u001b[0m\u001b[0m\n",
      "\u001b[1;32mc:\\users\\zheng\\appdata\\local\\programs\\python\\python39\\lib\\site-packages\\keras_preprocessing\\image\\iterator.py\u001b[0m in \u001b[0;36m_get_batches_of_transformed_samples\u001b[1;34m(self, index_array)\u001b[0m\n\u001b[0;32m    225\u001b[0m         \u001b[0mfilepaths\u001b[0m \u001b[1;33m=\u001b[0m \u001b[0mself\u001b[0m\u001b[1;33m.\u001b[0m\u001b[0mfilepaths\u001b[0m\u001b[1;33m\u001b[0m\u001b[1;33m\u001b[0m\u001b[0m\n\u001b[0;32m    226\u001b[0m         \u001b[1;32mfor\u001b[0m \u001b[0mi\u001b[0m\u001b[1;33m,\u001b[0m \u001b[0mj\u001b[0m \u001b[1;32min\u001b[0m \u001b[0menumerate\u001b[0m\u001b[1;33m(\u001b[0m\u001b[0mindex_array\u001b[0m\u001b[1;33m)\u001b[0m\u001b[1;33m:\u001b[0m\u001b[1;33m\u001b[0m\u001b[1;33m\u001b[0m\u001b[0m\n\u001b[1;32m--> 227\u001b[1;33m             img = load_img(filepaths[j],\n\u001b[0m\u001b[0;32m    228\u001b[0m                            \u001b[0mcolor_mode\u001b[0m\u001b[1;33m=\u001b[0m\u001b[0mself\u001b[0m\u001b[1;33m.\u001b[0m\u001b[0mcolor_mode\u001b[0m\u001b[1;33m,\u001b[0m\u001b[1;33m\u001b[0m\u001b[1;33m\u001b[0m\u001b[0m\n\u001b[0;32m    229\u001b[0m                            \u001b[0mtarget_size\u001b[0m\u001b[1;33m=\u001b[0m\u001b[0mself\u001b[0m\u001b[1;33m.\u001b[0m\u001b[0mtarget_size\u001b[0m\u001b[1;33m,\u001b[0m\u001b[1;33m\u001b[0m\u001b[1;33m\u001b[0m\u001b[0m\n",
      "\u001b[1;32mc:\\users\\zheng\\appdata\\local\\programs\\python\\python39\\lib\\site-packages\\keras_preprocessing\\image\\utils.py\u001b[0m in \u001b[0;36mload_img\u001b[1;34m(path, grayscale, color_mode, target_size, interpolation)\u001b[0m\n\u001b[0;32m    117\u001b[0m             \u001b[1;31m# convert it to an 8-bit grayscale image.\u001b[0m\u001b[1;33m\u001b[0m\u001b[1;33m\u001b[0m\u001b[1;33m\u001b[0m\u001b[0m\n\u001b[0;32m    118\u001b[0m             \u001b[1;32mif\u001b[0m \u001b[0mimg\u001b[0m\u001b[1;33m.\u001b[0m\u001b[0mmode\u001b[0m \u001b[1;32mnot\u001b[0m \u001b[1;32min\u001b[0m \u001b[1;33m(\u001b[0m\u001b[1;34m'L'\u001b[0m\u001b[1;33m,\u001b[0m \u001b[1;34m'I;16'\u001b[0m\u001b[1;33m,\u001b[0m \u001b[1;34m'I'\u001b[0m\u001b[1;33m)\u001b[0m\u001b[1;33m:\u001b[0m\u001b[1;33m\u001b[0m\u001b[1;33m\u001b[0m\u001b[0m\n\u001b[1;32m--> 119\u001b[1;33m                 \u001b[0mimg\u001b[0m \u001b[1;33m=\u001b[0m \u001b[0mimg\u001b[0m\u001b[1;33m.\u001b[0m\u001b[0mconvert\u001b[0m\u001b[1;33m(\u001b[0m\u001b[1;34m'L'\u001b[0m\u001b[1;33m)\u001b[0m\u001b[1;33m\u001b[0m\u001b[1;33m\u001b[0m\u001b[0m\n\u001b[0m\u001b[0;32m    120\u001b[0m         \u001b[1;32melif\u001b[0m \u001b[0mcolor_mode\u001b[0m \u001b[1;33m==\u001b[0m \u001b[1;34m'rgba'\u001b[0m\u001b[1;33m:\u001b[0m\u001b[1;33m\u001b[0m\u001b[1;33m\u001b[0m\u001b[0m\n\u001b[0;32m    121\u001b[0m             \u001b[1;32mif\u001b[0m \u001b[0mimg\u001b[0m\u001b[1;33m.\u001b[0m\u001b[0mmode\u001b[0m \u001b[1;33m!=\u001b[0m \u001b[1;34m'RGBA'\u001b[0m\u001b[1;33m:\u001b[0m\u001b[1;33m\u001b[0m\u001b[1;33m\u001b[0m\u001b[0m\n",
      "\u001b[1;32mc:\\users\\zheng\\appdata\\local\\programs\\python\\python39\\lib\\site-packages\\PIL\\Image.py\u001b[0m in \u001b[0;36mconvert\u001b[1;34m(self, mode, matrix, dither, palette, colors)\u001b[0m\n\u001b[0;32m    902\u001b[0m         \"\"\"\n\u001b[0;32m    903\u001b[0m \u001b[1;33m\u001b[0m\u001b[0m\n\u001b[1;32m--> 904\u001b[1;33m         \u001b[0mself\u001b[0m\u001b[1;33m.\u001b[0m\u001b[0mload\u001b[0m\u001b[1;33m(\u001b[0m\u001b[1;33m)\u001b[0m\u001b[1;33m\u001b[0m\u001b[1;33m\u001b[0m\u001b[0m\n\u001b[0m\u001b[0;32m    905\u001b[0m \u001b[1;33m\u001b[0m\u001b[0m\n\u001b[0;32m    906\u001b[0m         \u001b[1;32mif\u001b[0m \u001b[1;32mnot\u001b[0m \u001b[0mmode\u001b[0m \u001b[1;32mand\u001b[0m \u001b[0mself\u001b[0m\u001b[1;33m.\u001b[0m\u001b[0mmode\u001b[0m \u001b[1;33m==\u001b[0m \u001b[1;34m\"P\"\u001b[0m\u001b[1;33m:\u001b[0m\u001b[1;33m\u001b[0m\u001b[1;33m\u001b[0m\u001b[0m\n",
      "\u001b[1;32mc:\\users\\zheng\\appdata\\local\\programs\\python\\python39\\lib\\site-packages\\PIL\\ImageFile.py\u001b[0m in \u001b[0;36mload\u001b[1;34m(self)\u001b[0m\n\u001b[0;32m    263\u001b[0m \u001b[1;33m\u001b[0m\u001b[0m\n\u001b[0;32m    264\u001b[0m                             \u001b[0mb\u001b[0m \u001b[1;33m=\u001b[0m \u001b[0mb\u001b[0m \u001b[1;33m+\u001b[0m \u001b[0ms\u001b[0m\u001b[1;33m\u001b[0m\u001b[1;33m\u001b[0m\u001b[0m\n\u001b[1;32m--> 265\u001b[1;33m                             \u001b[0mn\u001b[0m\u001b[1;33m,\u001b[0m \u001b[0merr_code\u001b[0m \u001b[1;33m=\u001b[0m \u001b[0mdecoder\u001b[0m\u001b[1;33m.\u001b[0m\u001b[0mdecode\u001b[0m\u001b[1;33m(\u001b[0m\u001b[0mb\u001b[0m\u001b[1;33m)\u001b[0m\u001b[1;33m\u001b[0m\u001b[1;33m\u001b[0m\u001b[0m\n\u001b[0m\u001b[0;32m    266\u001b[0m                             \u001b[1;32mif\u001b[0m \u001b[0mn\u001b[0m \u001b[1;33m<\u001b[0m \u001b[1;36m0\u001b[0m\u001b[1;33m:\u001b[0m\u001b[1;33m\u001b[0m\u001b[1;33m\u001b[0m\u001b[0m\n\u001b[0;32m    267\u001b[0m                                 \u001b[1;32mbreak\u001b[0m\u001b[1;33m\u001b[0m\u001b[1;33m\u001b[0m\u001b[0m\n",
      "\u001b[1;31mKeyboardInterrupt\u001b[0m: "
     ]
    }
   ],
   "source": [
    "train(train_ds, EPOCHS)"
   ]
  },
  {
   "cell_type": "code",
   "execution_count": null,
   "id": "41435475",
   "metadata": {},
   "outputs": [],
   "source": [
    "import os\n",
    "\n",
    "checkpoint_dir = './training_checkpoints'\n",
    "checkpoint_prefix = os.path.join(checkpoint_dir, \"ckpt\")\n",
    "checkpoint = tf.train.Checkpoint(generator_optimizer=generator_optimizer,\n",
    "                                 discriminator_optimizer=discriminator_optimizer,\n",
    "                                 generator=generator,\n",
    "                                 discriminator=discriminator)"
   ]
  },
  {
   "cell_type": "code",
   "execution_count": null,
   "id": "e0a4d960",
   "metadata": {},
   "outputs": [],
   "source": [
    "#checkpoint.restore(checkpoint_dir + '/ckpt-1')"
   ]
  },
  {
   "cell_type": "code",
   "execution_count": null,
   "id": "1460a9c9",
   "metadata": {},
   "outputs": [],
   "source": [
    "#generator.load_weights('./checkpoints/my_checkpoint')"
   ]
  },
  {
   "cell_type": "code",
   "execution_count": 25,
   "id": "b3e99ff5",
   "metadata": {},
   "outputs": [
    {
     "data": {
      "text/plain": [
       "<matplotlib.image.AxesImage at 0x2274001d850>"
      ]
     },
     "execution_count": 25,
     "metadata": {},
     "output_type": "execute_result"
    },
    {
     "data": {
      "image/png": "[encoded data removed]",
      "text/plain": [
       "<Figure size 432x288 with 1 Axes>"
      ]
     },
     "metadata": {
      "needs_background": "light"
     },
     "output_type": "display_data"
    }
   ],
   "source": [
    "import matplotlib.pyplot as plt\n",
    "\n",
    "seed = tf.random.normal([1, 100])\n",
    "labels = tf.convert_to_tensor(randint(0, 2, 1).astype('float32'))\n",
    "predictions = generator([seed, labels], training=False)\n",
    "real, _ = train_ds[0]\n",
    "real = real[0].squeeze(2)\n",
    "image = predictions[0]\n",
    "image = image.numpy()\n",
    "image = image.squeeze(2)\n",
    "image = image * 255\n",
    "plt.imshow(image, cmap='gray')"
   ]
  },
  {
   "cell_type": "code",
   "execution_count": 11,
   "id": "a516ebb9",
   "metadata": {},
   "outputs": [
    {
     "data": {
      "text/plain": [
       "<matplotlib.image.AxesImage at 0x26c4b39d880>"
      ]
     },
     "execution_count": 11,
     "metadata": {},
     "output_type": "execute_result"
    },
    {
     "data": {
      "image/png": "[encoded data removed]",
      "text/plain": [
       "<Figure size 432x288 with 1 Axes>"
      ]
     },
     "metadata": {
      "needs_background": "light"
     },
     "output_type": "display_data"
    }
   ],
   "source": [
    "plt.imshow(real, cmap='gray')"
   ]
  },
  {
   "cell_type": "code",
   "execution_count": null,
   "id": "virgin-think",
   "metadata": {},
   "outputs": [],
   "source": [
    "print('training complete!...')\n",
    "print('saving generator!...')\n",
    "generator.save_weights('./checkpoints/g_my_checkpoint')\n",
    "print('saving discriminator!...')\n",
    "discriminator.save_weights('./checkpoints/d_my_checkpoint')"
   ]
  },
  {
   "cell_type": "code",
   "execution_count": null,
   "id": "norman-excellence",
   "metadata": {},
   "outputs": [],
   "source": []
  }
 ],
 "metadata": {
  "kernelspec": {
   "display_name": "Python 3",
   "language": "python",
   "name": "python3"
  },
  "language_info": {
   "codemirror_mode": {
    "name": "ipython",
    "version": 3
   },
   "file_extension": ".py",
   "mimetype": "text/x-python",
   "name": "python",
   "nbconvert_exporter": "python",
   "pygments_lexer": "ipython3",
   "version": "3.9.2"
  }
 },
 "nbformat": 4,
 "nbformat_minor": 5
}
